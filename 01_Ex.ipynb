{
 "cells": [
  {
   "cell_type": "markdown",
   "metadata": {},
   "source": [
    "# EJERCICIO 1"
   ]
  },
  {
   "cell_type": "markdown",
   "metadata": {},
   "source": [
    "<img src=\"./Diagramas_clase/IMG-20240820-WA0005.png\" alt=\"Ex 1\" width=\"500\">"
   ]
  },
  {
   "cell_type": "markdown",
   "metadata": {},
   "source": [
    "- *int id*: Asigna una identificador unico a cada instancia de `Employe`\n",
    "- *int new_id*:  Variable global de `Employe`\n",
    "- *void say_id()*: Imprime el `id` de la instancia"
   ]
  },
  {
   "cell_type": "markdown",
   "metadata": {},
   "source": [
    "## Esto es encapsulamiento"
   ]
  },
  {
   "cell_type": "code",
   "execution_count": 18,
   "metadata": {},
   "outputs": [],
   "source": [
    "class Employee:\n",
    "    new_id = 1 #Vaiable global\n",
    "    \n",
    "    def __init__(self, name, age):\n",
    "        self.id = Employee.new_id\n",
    "        self.name= name\n",
    "        self.age= age\n",
    "        Employee.new_id += 1      #metodo\n",
    "        \n",
    "    def say_id(self):\n",
    "        print(f'Mi nombre es {self.name} y mi id es {self.id}')  #metodo\n",
    "        \n",
    "    def say_age(self):\n",
    "        print(f'Mi edad es {self.age}')  #metodo"
   ]
  },
  {
   "cell_type": "code",
   "execution_count": 19,
   "metadata": {},
   "outputs": [
    {
     "name": "stdout",
     "output_type": "stream",
     "text": [
      "Mi nombre es Savana y mi id es 1\n",
      "Mi edad es 22\n",
      "Mi nombre es Dakota y mi id es 2\n",
      "Mi edad es 25\n"
     ]
    }
   ],
   "source": [
    "Savana = Employee('Savana', 22)\n",
    "Savana.say_id()\n",
    "Savana.say_age()\n",
    "\n",
    "Dakota = Employee('Dakota', 25)\n",
    "Dakota.say_id()\n",
    "Dakota.say_age()"
   ]
  }
 ],
 "metadata": {
  "kernelspec": {
   "display_name": "Python 3",
   "language": "python",
   "name": "python3"
  },
  "language_info": {
   "codemirror_mode": {
    "name": "ipython",
    "version": 3
   },
   "file_extension": ".py",
   "mimetype": "text/x-python",
   "name": "python",
   "nbconvert_exporter": "python",
   "pygments_lexer": "ipython3",
   "version": "3.12.2"
  }
 },
 "nbformat": 4,
 "nbformat_minor": 2
}
