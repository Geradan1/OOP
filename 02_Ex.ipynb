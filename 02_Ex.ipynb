{
 "cells": [
  {
   "cell_type": "markdown",
   "metadata": {},
   "source": [
    "<img src=\"./Diagramas_clase\\IMG-20240820-WA0006.jpg\" alt=\"Ex 1\" width=\"500\">"
   ]
  },
  {
   "cell_type": "markdown",
   "metadata": {},
   "source": [
    "- **eat()**: Imprime 'yummy yummy! estoy comiendo'.\n",
    "- **vaid meow()**: Imprime 'soy un gato y hago meow!'.\n",
    "- **vaid bark()**: Imprime 'soy un perro y hago woof!'."
   ]
  },
  {
   "cell_type": "markdown",
   "metadata": {},
   "source": [
    "## Herencia"
   ]
  },
  {
   "cell_type": "code",
   "execution_count": 7,
   "metadata": {},
   "outputs": [],
   "source": [
    "class Animal:\n",
    "    def __init__(self, name):\n",
    "        self.name = name\n",
    "        \n",
    "    def eat(self):\n",
    "        print(f'yummy yummy! estoy comiendo')\n",
    "        \n",
    "class Cat(Animal):\n",
    "    def meow(self):\n",
    "        print(f'soy {self.name} y hago meow!')\n",
    "    \n",
    "class Dog(Animal):\n",
    "    def bark(self):\n",
    "        print(f'soy {self.name} y hago woof!') "
   ]
  },
  {
   "cell_type": "code",
   "execution_count": 8,
   "metadata": {},
   "outputs": [
    {
     "name": "stdout",
     "output_type": "stream",
     "text": [
      "soy un gato y hago meow!\n",
      "yummy yummy! estoy comiendo\n",
      "soy un perro y hago woof!\n",
      "yummy yummy! estoy comiendo\n"
     ]
    }
   ],
   "source": [
    "michu = Cat('michu')\n",
    "michu.meow()\n",
    "michu.eat()\n",
    "\n",
    "firulais = Dog('firulais')\n",
    "firulais.bark()\n",
    "firulais.eat()"
   ]
  }
 ],
 "metadata": {
  "kernelspec": {
   "display_name": "Python 3",
   "language": "python",
   "name": "python3"
  },
  "language_info": {
   "codemirror_mode": {
    "name": "ipython",
    "version": 3
   },
   "file_extension": ".py",
   "mimetype": "text/x-python",
   "name": "python",
   "nbconvert_exporter": "python",
   "pygments_lexer": "ipython3",
   "version": "3.12.2"
  }
 },
 "nbformat": 4,
 "nbformat_minor": 2
}
