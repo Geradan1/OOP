{
 "cells": [
  {
   "cell_type": "markdown",
   "metadata": {},
   "source": [
    "<img src=\"./Diagramas_clase\\IMG-20240820-WA0008.jpg\" alt=\"Ex 1\" width=\"500\">"
   ]
  },
  {
   "cell_type": "markdown",
   "metadata": {},
   "source": [
    "## Clase Animal\n",
    "- *str name*: Atributo de instancia. Nombre del animal.\n",
    "- *void eat()*: Imprime 'Yummy yummy! estoy comiendo.'.\n",
    "- *void make_noise()*: Imprime '{self.name} hace Grrrr!.'."
   ]
  },
  {
   "cell_type": "markdown",
   "metadata": {},
   "source": [
    "## Clase Cat\n",
    "- *void make_noise()*: Imprime '{self.name} hace Rrrrrr!.'.\n",
    "- *void meow()*: Imprime 'Soy un gato y hago Meow!.'."
   ]
  },
  {
   "cell_type": "markdown",
   "metadata": {},
   "source": [
    "## Clase Dog\n",
    "- *void bark()*: Imprime 'Soy un perro y hago woof woof!'."
   ]
  },
  {
   "cell_type": "code",
   "execution_count": 3,
   "metadata": {},
   "outputs": [],
   "source": [
    "class Animal:     \n",
    "    def __init__(self, name):\n",
    "        self.name = name\n",
    "        \n",
    "    def eat(self):\n",
    "        print(f'yummy yummy! estoy comiendo')\n",
    "        \n",
    "    def make_noise(self):\n",
    "        print(f'{self.name} hace grrrrrr!')"
   ]
  },
  {
   "cell_type": "code",
   "execution_count": 4,
   "metadata": {},
   "outputs": [
    {
     "name": "stdout",
     "output_type": "stream",
     "text": [
      "Negro hace grrrrrr!\n",
      "yummy yummy! estoy comiendo\n"
     ]
    }
   ],
   "source": [
    "Negro = Animal('Negro')\n",
    "Negro.make_noise()\n",
    "Negro.eat()"
   ]
  },
  {
   "cell_type": "code",
   "execution_count": 5,
   "metadata": {},
   "outputs": [],
   "source": [
    "class Cat(Animal):\n",
    "    def meow(self):\n",
    "        print(f'soy {self.name} y hago meow!')\n",
    "        \n",
    "    def make_noise(self):\n",
    "        print('Soy un gato y hago Rrrrrrrrrrrr')"
   ]
  },
  {
   "cell_type": "code",
   "execution_count": 10,
   "metadata": {},
   "outputs": [
    {
     "name": "stdout",
     "output_type": "stream",
     "text": [
      "Soy un gato y hago Rrrrrrrrrrrr\n",
      "soy Michu y hago meow!\n",
      "yummy yummy! estoy comiendo\n"
     ]
    }
   ],
   "source": [
    "Michu = Cat('Michu')\n",
    "Michu.make_noise()\n",
    "Michu.meow()\n",
    "Michu.eat()"
   ]
  },
  {
   "cell_type": "code",
   "execution_count": 15,
   "metadata": {},
   "outputs": [],
   "source": [
    "class Dog(Animal):\n",
    "    def bark(self):\n",
    "        print('soy un perro y hago woof!') "
   ]
  },
  {
   "cell_type": "code",
   "execution_count": 17,
   "metadata": {},
   "outputs": [
    {
     "name": "stdout",
     "output_type": "stream",
     "text": [
      "yummy yummy! estoy comiendo\n",
      "soy un perro y hago woof!\n",
      "Firu hace grrrrrr!\n"
     ]
    }
   ],
   "source": [
    "Firu = Dog('Firu')\n",
    "Firu.eat()\n",
    "Firu.bark()\n",
    "Firu.make_noise()"
   ]
  }
 ],
 "metadata": {
  "kernelspec": {
   "display_name": "Python 3",
   "language": "python",
   "name": "python3"
  },
  "language_info": {
   "codemirror_mode": {
    "name": "ipython",
    "version": 3
   },
   "file_extension": ".py",
   "mimetype": "text/x-python",
   "name": "python",
   "nbconvert_exporter": "python",
   "pygments_lexer": "ipython3",
   "version": "3.12.2"
  }
 },
 "nbformat": 4,
 "nbformat_minor": 2
}
