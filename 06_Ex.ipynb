{
 "cells": [
  {
   "cell_type": "code",
   "execution_count": 96,
   "metadata": {},
   "outputs": [],
   "source": [
    "class Employee:\n",
    "    new_id = 1  # Variable global\n",
    "\n",
    "    def __init__(self):\n",
    "        self.id = Employee.new_id\n",
    "        Employee.new_id += 1\n",
    "\n",
    "    def say_id(self):\n",
    "        print(f'Mi id es {self.id}')\n",
    "    "
   ]
  },
  {
   "cell_type": "code",
   "execution_count": 86,
   "metadata": {},
   "outputs": [
    {
     "name": "stdout",
     "output_type": "stream",
     "text": [
      "Mi id es 1\n",
      "Mi id es 2\n"
     ]
    }
   ],
   "source": [
    "emp1 = Employee()\n",
    "emp1.say_id()\n",
    "\n",
    "\n",
    "emp2 = Employee()\n",
    "emp2.say_id()"
   ]
  },
  {
   "cell_type": "code",
   "execution_count": 87,
   "metadata": {},
   "outputs": [],
   "source": [
    "class User:\n",
    "    def __init__(self, role, username):\n",
    "        self.role = role\n",
    "        self.username = username\n",
    "        \n",
    "    def say_user_info(self):\n",
    "        print(f'Mi nombre es {self.username} y soy {self.role}')"
   ]
  },
  {
   "cell_type": "code",
   "execution_count": 88,
   "metadata": {},
   "outputs": [
    {
     "name": "stdout",
     "output_type": "stream",
     "text": [
      "Mi nombre es Alice y soy Usuario\n",
      "Mi nombre es Dana y soy Administrador\n",
      "Mi nombre es Pancho y soy Manager\n"
     ]
    }
   ],
   "source": [
    "user = User('Usuario', 'Alice')\n",
    "user.say_user_info()\n",
    "\n",
    "user2 = User('Administrador', 'Dana')\n",
    "user2.say_user_info()\n",
    "\n",
    "user3 = User('Manager', 'Pancho')\n",
    "user3.say_user_info()"
   ]
  },
  {
   "cell_type": "code",
   "execution_count": 89,
   "metadata": {},
   "outputs": [],
   "source": [
    "class Admin(Employee):\n",
    "    def say_id(self):\n",
    "         print(f'Mi id es {self.id}')\n",
    "         print(\"Soy un Administrador \\\\(0-0)/\")"
   ]
  },
  {
   "cell_type": "code",
   "execution_count": 90,
   "metadata": {},
   "outputs": [
    {
     "name": "stdout",
     "output_type": "stream",
     "text": [
      "Mi nombre es Dana y soy Administrador\n",
      "Mi id es 3\n",
      "Soy un Administrador \\(0-0)/\n"
     ]
    }
   ],
   "source": [
    "admin1 = Admin()\n",
    "user2.say_user_info()\n",
    "admin1.say_id()"
   ]
  },
  {
   "cell_type": "code",
   "execution_count": 91,
   "metadata": {},
   "outputs": [],
   "source": [
    "class Manager(Admin):\n",
    "    def say_id(self):\n",
    "        print(f'Mi id es {self.id}')\n",
    "        print(\"Soy un Administrador \\\\(0-0)/\")\n",
    "        print('Estoy al mando')"
   ]
  },
  {
   "cell_type": "code",
   "execution_count": 97,
   "metadata": {},
   "outputs": [
    {
     "name": "stdout",
     "output_type": "stream",
     "text": [
      "Mi nombre es Pancho y soy Manager\n",
      "Mi id es 1\n",
      "Soy un Administrador \\(0-0)/\n",
      "Estoy al mando\n"
     ]
    }
   ],
   "source": [
    "\n",
    "manager1 = Manager()\n",
    "user3.say_user_info()\n",
    "manager1.say_id()\n",
    "\n"
   ]
  }
 ],
 "metadata": {
  "kernelspec": {
   "display_name": "Python 3",
   "language": "python",
   "name": "python3"
  },
  "language_info": {
   "codemirror_mode": {
    "name": "ipython",
    "version": 3
   },
   "file_extension": ".py",
   "mimetype": "text/x-python",
   "name": "python",
   "nbconvert_exporter": "python",
   "pygments_lexer": "ipython3",
   "version": "3.12.2"
  }
 },
 "nbformat": 4,
 "nbformat_minor": 2
}
