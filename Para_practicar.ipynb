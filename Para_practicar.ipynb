{
 "cells": [
  {
   "cell_type": "markdown",
   "metadata": {},
   "source": [
    "**Ejercicio de Clases y Objetos:**\n",
    "Crea una clase Estudiante con atributos como nombre, edad y calificaciones. Incluye métodos para calcular el promedio de calificaciones y para mostrar información del estudiante."
   ]
  },
  {
   "cell_type": "code",
   "execution_count": 1,
   "metadata": {},
   "outputs": [],
   "source": [
    "class Estudiante:\n",
    "    def __init__(self, name, edad, califi):\n",
    "        self.edad = edad\n",
    "        self.name= name\n",
    "        self.calif= califi\n",
    "        \n",
    "    def say_name(self):\n",
    "        print(f'Mi nombre es {self.name} y mi edad es {self.edad}')\n",
    "        \n",
    "    def say_califica(self):\n",
    "        print(f'Mi calificación es {self.calif}')"
   ]
  },
  {
   "cell_type": "code",
   "execution_count": 3,
   "metadata": {},
   "outputs": [
    {
     "name": "stdout",
     "output_type": "stream",
     "text": [
      "Mi nombre es Ana y mi edad es 20\n",
      "Mi calificación es 45.7\n"
     ]
    }
   ],
   "source": [
    "Ana = Estudiante('Ana', 20, 45.7)\n",
    "Ana.say_name()\n",
    "Ana.say_califica()"
   ]
  },
  {
   "cell_type": "markdown",
   "metadata": {},
   "source": [
    "**Ejercicio de Herencia:**\n",
    "Define una clase base Vehiculo con atributos como marca y modelo. Crea subclases como Coche, Moto, etc., que hereden de Vehiculo y tengan atributos específicos y métodos propios.\n"
   ]
  },
  {
   "cell_type": "code",
   "execution_count": 30,
   "metadata": {},
   "outputs": [],
   "source": [
    "class vehiculo():\n",
    "    def __init__(self, marca, modelo):\n",
    "        self.marca = marca\n",
    "        self.modelo = modelo"
   ]
  },
  {
   "cell_type": "code",
   "execution_count": 31,
   "metadata": {},
   "outputs": [],
   "source": [
    "class Coche(vehiculo):\n",
    "    def __init__(self, marca, modelo, num_puertas):\n",
    "        super().__init__(marca, modelo)\n",
    "        self.num_puertas = num_puertas\n",
    "\n",
    "    def mostrar_marca(self):\n",
    "        print(self.marca)\n",
    "\n",
    "    def mostrar_modelo(self):\n",
    "        print(self.modelo)\n",
    "\n",
    "    def mostrar_num_puertas(self):\n",
    "        print(self.num_puertas)"
   ]
  },
  {
   "cell_type": "code",
   "execution_count": 37,
   "metadata": {},
   "outputs": [],
   "source": [
    "class moto(vehiculo):\n",
    "    def __init__(self, marca, modelo, color, cuantas_ruedas):\n",
    "        super().__init__(marca, modelo)\n",
    "        self.color = color\n",
    "        self.cuantas_ruedas = cuantas_ruedas\n",
    "\n",
    "    def mostrar_color(self):\n",
    "        print(self.color)\n",
    "\n",
    "    def mostrar_cuantas_ruedas(self):\n",
    "        print(self.cuantas_ruedas)\n",
    "        \n",
    "    def mostrar_marca(self):\n",
    "       print(self.marca)\n",
    "\n",
    "    def mostrar_modelo(self):\n",
    "        print(self.modelo)"
   ]
  },
  {
   "cell_type": "code",
   "execution_count": 32,
   "metadata": {},
   "outputs": [
    {
     "name": "stdout",
     "output_type": "stream",
     "text": [
      "Toyota\n",
      "Corolla\n",
      "4\n"
     ]
    }
   ],
   "source": [
    "carro = Coche(\"Toyota\", \"Corolla\", 4)\n",
    "carro.mostrar_marca()\n",
    "carro.mostrar_modelo()\n",
    "carro.mostrar_num_puertas()"
   ]
  },
  {
   "cell_type": "code",
   "execution_count": 38,
   "metadata": {},
   "outputs": [
    {
     "name": "stdout",
     "output_type": "stream",
     "text": [
      "Honda\n",
      "CBR500R\n",
      "rojo\n",
      "2\n"
     ]
    }
   ],
   "source": [
    "mi_moto = moto(\"Honda\", \"CBR500R\", \"rojo\", 2)\n",
    "mi_moto.mostrar_marca()\n",
    "mi_moto.mostrar_modelo()\n",
    "mi_moto.mostrar_color()\n",
    "mi_moto.mostrar_cuantas_ruedas()"
   ]
  }
 ],
 "metadata": {
  "kernelspec": {
   "display_name": "Python 3",
   "language": "python",
   "name": "python3"
  },
  "language_info": {
   "codemirror_mode": {
    "name": "ipython",
    "version": 3
   },
   "file_extension": ".py",
   "mimetype": "text/x-python",
   "name": "python",
   "nbconvert_exporter": "python",
   "pygments_lexer": "ipython3",
   "version": "3.12.2"
  }
 },
 "nbformat": 4,
 "nbformat_minor": 2
}
